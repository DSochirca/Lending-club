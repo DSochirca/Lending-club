{
 "cells": [
  {
   "cell_type": "code",
   "source": [
    "import pandas as pd\n",
    "import numpy as np\n",
    "import copy\n",
    "import matplotlib.pyplot as plt\n",
    "from sklearn.neural_network import MLPClassifier\n",
    "from sklearn.metrics import mean_squared_error, zero_one_loss, ConfusionMatrixDisplay, roc_auc_score, roc_curve, \\\n",
    "    confusion_matrix, accuracy_score, recall_score, precision_score, f1_score"
   ],
   "execution_count": 1,
   "outputs": [],
   "metadata": {
    "datalore": {
     "node_id": "ZWGzLl7HTCyaC84TZqghx0",
     "type": "CODE",
     "hide_input_from_viewers": false,
     "hide_output_from_viewers": false
    }
   }
  },
  {
   "cell_type": "markdown",
   "source": [
    "### Importing the training, test and validation sets"
   ],
   "attachments": {},
   "metadata": {
    "datalore": {
     "node_id": "wTEHFlifaaP6Lrf8RL9j8o",
     "type": "MD",
     "hide_input_from_viewers": false,
     "hide_output_from_viewers": false
    }
   }
  },
  {
   "cell_type": "code",
   "source": [
    "# Loading the datasets\n",
    "training_set_X = pd.read_csv('training_set_X.csv').to_numpy()\n",
    "training_set_Y = pd.read_csv('training_set_Y.csv').to_numpy().ravel()\n",
    "test_set_X = pd.read_csv('test_set_X.csv').to_numpy()\n",
    "test_set_Y = pd.read_csv('test_set_Y.csv').to_numpy().ravel()\n",
    "\n",
    "# Save feature names because standardScaler removes them\n",
    "feature_names = pd.read_csv('LendingClub_processed.csv', nrows=1).columns.tolist()\n",
    "feature_names.remove('loan_status')\n",
    "feature_names = np.array(feature_names)\n",
    "\n",
    "print(\"Total amount of features: \" + str(len(feature_names)))\n",
    "print(\"Training set: \" + \" X: \" + str(training_set_X.shape) + \";  Y: \"+str(training_set_Y.shape))\n",
    "print(\"Test set: \" + \" X: \" + str(test_set_X.shape) + \";  Y: \"+str(test_set_Y.shape))"
   ],
   "execution_count": 2,
   "outputs": [
    {
     "name": "stdout",
     "text": [
      "Total amount of features: 53\n",
      "Training set:  X: (92722, 53);  Y: (92722,)\n",
      "Test set:  X: (39738, 53);  Y: (39738,)\n"
     ],
     "output_type": "stream"
    }
   ],
   "metadata": {
    "datalore": {
     "node_id": "tWVrXsAJtptblncB35cCgm",
     "type": "CODE",
     "hide_input_from_viewers": false,
     "hide_output_from_viewers": false
    }
   }
  },
  {
   "cell_type": "code",
   "source": [
    "# Loading the data dictionary\n",
    "pd.set_option('max_colwidth', 1200) # controls output width; might need adjustment\n",
    "data_dictionary = pd.read_csv('LCDataDictionary.csv') # Loading in the data dictionary\n",
    "data_dictionary = data_dictionary.rename(columns={'LoanStatNew': 'name', 'Description': 'description'})\n",
    "\n",
    "data_dictionary = data_dictionary[data_dictionary['name'].isin(feature_names)]\n",
    "data_dictionary"
   ],
   "execution_count": 3,
   "outputs": [
    {
     "data": {
      "text/html": [
       "<div>\n",
       "<style scoped>\n",
       "    .dataframe tbody tr th:only-of-type {\n",
       "        vertical-align: middle;\n",
       "    }\n",
       "\n",
       "    .dataframe tbody tr th {\n",
       "        vertical-align: top;\n",
       "    }\n",
       "\n",
       "    .dataframe thead th {\n",
       "        text-align: right;\n",
       "    }\n",
       "</style>\n",
       "<table border=\"1\" class=\"dataframe\">\n",
       "  <thead>\n",
       "    <tr style=\"text-align: right;\">\n",
       "      <th></th>\n",
       "      <th>name</th>\n",
       "      <th>description</th>\n",
       "    </tr>\n",
       "  </thead>\n",
       "  <tbody>\n",
       "    <tr>\n",
       "      <th>1</th>\n",
       "      <td>acc_open_past_24mths</td>\n",
       "      <td>Number of trades opened in past 24 months.</td>\n",
       "    </tr>\n",
       "    <tr>\n",
       "      <th>2</th>\n",
       "      <td>addr_state</td>\n",
       "      <td>The state provided by the borrower in the loan application</td>\n",
       "    </tr>\n",
       "    <tr>\n",
       "      <th>3</th>\n",
       "      <td>all_util</td>\n",
       "      <td>Balance to credit limit on all trades</td>\n",
       "    </tr>\n",
       "    <tr>\n",
       "      <th>4</th>\n",
       "      <td>annual_inc</td>\n",
       "      <td>The self-reported annual income provided by the borrower during registration.</td>\n",
       "    </tr>\n",
       "    <tr>\n",
       "      <th>7</th>\n",
       "      <td>avg_cur_bal</td>\n",
       "      <td>Average current balance of all accounts</td>\n",
       "    </tr>\n",
       "    <tr>\n",
       "      <th>8</th>\n",
       "      <td>bc_open_to_buy</td>\n",
       "      <td>Total open to buy on revolving bankcards.</td>\n",
       "    </tr>\n",
       "    <tr>\n",
       "      <th>13</th>\n",
       "      <td>delinq_2yrs</td>\n",
       "      <td>The number of 30+ days past-due incidences of delinquency in the borrower's credit file for the past 2 years</td>\n",
       "    </tr>\n",
       "    <tr>\n",
       "      <th>16</th>\n",
       "      <td>dti</td>\n",
       "      <td>A ratio calculated using the borrower’s total monthly debt payments on the total debt obligations, excluding mortgage and the requested LC loan, divided by the borrower’s self-reported monthly income.</td>\n",
       "    </tr>\n",
       "    <tr>\n",
       "      <th>18</th>\n",
       "      <td>earliest_cr_line</td>\n",
       "      <td>The month the borrower's earliest reported credit line was opened</td>\n",
       "    </tr>\n",
       "    <tr>\n",
       "      <th>19</th>\n",
       "      <td>emp_length</td>\n",
       "      <td>Employment length in years. Possible values are between 0 and 10 where 0 means less than one year and 10 means ten or more years.</td>\n",
       "    </tr>\n",
       "    <tr>\n",
       "      <th>20</th>\n",
       "      <td>emp_title</td>\n",
       "      <td>The job title supplied by the Borrower when applying for the loan.*</td>\n",
       "    </tr>\n",
       "    <tr>\n",
       "      <th>22</th>\n",
       "      <td>fico_range_low</td>\n",
       "      <td>The lower boundary range the borrower’s FICO at loan origination belongs to.</td>\n",
       "    </tr>\n",
       "    <tr>\n",
       "      <th>25</th>\n",
       "      <td>grade</td>\n",
       "      <td>LC assigned loan grade</td>\n",
       "    </tr>\n",
       "    <tr>\n",
       "      <th>26</th>\n",
       "      <td>home_ownership</td>\n",
       "      <td>The home ownership status provided by the borrower during registration. Our values are: RENT, OWN, MORTGAGE, OTHER.</td>\n",
       "    </tr>\n",
       "    <tr>\n",
       "      <th>30</th>\n",
       "      <td>inq_fi</td>\n",
       "      <td>Number of personal finance inquiries</td>\n",
       "    </tr>\n",
       "    <tr>\n",
       "      <th>31</th>\n",
       "      <td>inq_last_12m</td>\n",
       "      <td>Number of credit inquiries in past 12 months</td>\n",
       "    </tr>\n",
       "    <tr>\n",
       "      <th>32</th>\n",
       "      <td>inq_last_6mths</td>\n",
       "      <td>The number of inquiries in past 6 months (excluding auto and mortgage inquiries)</td>\n",
       "    </tr>\n",
       "    <tr>\n",
       "      <th>34</th>\n",
       "      <td>int_rate</td>\n",
       "      <td>Interest Rate on the loan</td>\n",
       "    </tr>\n",
       "    <tr>\n",
       "      <th>41</th>\n",
       "      <td>loan_amnt</td>\n",
       "      <td>The listed amount of the loan applied for by the borrower. If at some point in time, the credit department reduces the loan amount, then it will be reflected in this value.</td>\n",
       "    </tr>\n",
       "    <tr>\n",
       "      <th>43</th>\n",
       "      <td>max_bal_bc</td>\n",
       "      <td>Maximum current balance owed on all revolving accounts</td>\n",
       "    </tr>\n",
       "    <tr>\n",
       "      <th>45</th>\n",
       "      <td>mo_sin_old_il_acct</td>\n",
       "      <td>Months since oldest bank installment account opened</td>\n",
       "    </tr>\n",
       "    <tr>\n",
       "      <th>46</th>\n",
       "      <td>mo_sin_old_rev_tl_op</td>\n",
       "      <td>Months since oldest revolving account opened</td>\n",
       "    </tr>\n",
       "    <tr>\n",
       "      <th>47</th>\n",
       "      <td>mo_sin_rcnt_rev_tl_op</td>\n",
       "      <td>Months since most recent revolving account opened</td>\n",
       "    </tr>\n",
       "    <tr>\n",
       "      <th>48</th>\n",
       "      <td>mo_sin_rcnt_tl</td>\n",
       "      <td>Months since most recent account opened</td>\n",
       "    </tr>\n",
       "    <tr>\n",
       "      <th>49</th>\n",
       "      <td>mort_acc</td>\n",
       "      <td>Number of mortgage accounts.</td>\n",
       "    </tr>\n",
       "    <tr>\n",
       "      <th>53</th>\n",
       "      <td>mths_since_rcnt_il</td>\n",
       "      <td>Months since most recent installment accounts opened</td>\n",
       "    </tr>\n",
       "    <tr>\n",
       "      <th>54</th>\n",
       "      <td>mths_since_recent_bc</td>\n",
       "      <td>Months since most recent bankcard account opened.</td>\n",
       "    </tr>\n",
       "    <tr>\n",
       "      <th>59</th>\n",
       "      <td>num_accts_ever_120_pd</td>\n",
       "      <td>Number of accounts ever 120 or more days past due</td>\n",
       "    </tr>\n",
       "    <tr>\n",
       "      <th>60</th>\n",
       "      <td>num_actv_bc_tl</td>\n",
       "      <td>Number of currently active bankcard accounts</td>\n",
       "    </tr>\n",
       "    <tr>\n",
       "      <th>64</th>\n",
       "      <td>num_il_tl</td>\n",
       "      <td>Number of installment accounts</td>\n",
       "    </tr>\n",
       "    <tr>\n",
       "      <th>65</th>\n",
       "      <td>num_op_rev_tl</td>\n",
       "      <td>Number of open revolving accounts</td>\n",
       "    </tr>\n",
       "    <tr>\n",
       "      <th>66</th>\n",
       "      <td>num_rev_accts</td>\n",
       "      <td>Number of revolving accounts</td>\n",
       "    </tr>\n",
       "    <tr>\n",
       "      <th>68</th>\n",
       "      <td>num_sats</td>\n",
       "      <td>Number of satisfactory accounts</td>\n",
       "    </tr>\n",
       "    <tr>\n",
       "      <th>74</th>\n",
       "      <td>open_acc_6m</td>\n",
       "      <td>Number of open trades in last 6 months</td>\n",
       "    </tr>\n",
       "    <tr>\n",
       "      <th>75</th>\n",
       "      <td>open_il_12m</td>\n",
       "      <td>Number of installment accounts opened in past 12 months</td>\n",
       "    </tr>\n",
       "    <tr>\n",
       "      <th>78</th>\n",
       "      <td>open_rv_12m</td>\n",
       "      <td>Number of revolving trades opened in past 12 months</td>\n",
       "    </tr>\n",
       "    <tr>\n",
       "      <th>82</th>\n",
       "      <td>pct_tl_nvr_dlq</td>\n",
       "      <td>Percent of trades never delinquent</td>\n",
       "    </tr>\n",
       "    <tr>\n",
       "      <th>83</th>\n",
       "      <td>percent_bc_gt_75</td>\n",
       "      <td>Percentage of all bankcard accounts &gt; 75% of limit.</td>\n",
       "    </tr>\n",
       "    <tr>\n",
       "      <th>84</th>\n",
       "      <td>policy_code</td>\n",
       "      <td>publicly available policy_code=1\\nnew products not publicly available policy_code=2</td>\n",
       "    </tr>\n",
       "    <tr>\n",
       "      <th>85</th>\n",
       "      <td>pub_rec</td>\n",
       "      <td>Number of derogatory public records</td>\n",
       "    </tr>\n",
       "    <tr>\n",
       "      <th>86</th>\n",
       "      <td>pub_rec_bankruptcies</td>\n",
       "      <td>Number of public record bankruptcies</td>\n",
       "    </tr>\n",
       "    <tr>\n",
       "      <th>87</th>\n",
       "      <td>purpose</td>\n",
       "      <td>A category provided by the borrower for the loan request.</td>\n",
       "    </tr>\n",
       "    <tr>\n",
       "      <th>90</th>\n",
       "      <td>revol_bal</td>\n",
       "      <td>Total credit revolving balance</td>\n",
       "    </tr>\n",
       "    <tr>\n",
       "      <th>92</th>\n",
       "      <td>sub_grade</td>\n",
       "      <td>LC assigned loan subgrade</td>\n",
       "    </tr>\n",
       "    <tr>\n",
       "      <th>93</th>\n",
       "      <td>tax_liens</td>\n",
       "      <td>Number of tax liens</td>\n",
       "    </tr>\n",
       "    <tr>\n",
       "      <th>94</th>\n",
       "      <td>term</td>\n",
       "      <td>The number of payments on the loan. Values are in months and can be either 36 or 60.</td>\n",
       "    </tr>\n",
       "    <tr>\n",
       "      <th>96</th>\n",
       "      <td>tot_coll_amt</td>\n",
       "      <td>Total collection amounts ever owed</td>\n",
       "    </tr>\n",
       "    <tr>\n",
       "      <th>98</th>\n",
       "      <td>tot_hi_cred_lim</td>\n",
       "      <td>Total high credit/credit limit</td>\n",
       "    </tr>\n",
       "    <tr>\n",
       "      <th>100</th>\n",
       "      <td>total_bal_ex_mort</td>\n",
       "      <td>Total credit balance excluding mortgage</td>\n",
       "    </tr>\n",
       "    <tr>\n",
       "      <th>103</th>\n",
       "      <td>total_cu_tl</td>\n",
       "      <td>Number of finance trades</td>\n",
       "    </tr>\n",
       "    <tr>\n",
       "      <th>112</th>\n",
       "      <td>verification_status</td>\n",
       "      <td>Indicates if income was verified by LC, not verified, or if the income source was verified</td>\n",
       "    </tr>\n",
       "    <tr>\n",
       "      <th>114</th>\n",
       "      <td>zip_code</td>\n",
       "      <td>The first 3 numbers of the zip code provided by the borrower in the loan application.</td>\n",
       "    </tr>\n",
       "  </tbody>\n",
       "</table>\n",
       "</div>"
      ]
     },
     "metadata": {},
     "output_type": "display_data"
    }
   ],
   "metadata": {
    "datalore": {
     "node_id": "JCVZr4G5krtNLKDoV1L35q",
     "type": "CODE",
     "hide_input_from_viewers": false,
     "hide_output_from_viewers": false
    }
   }
  },
  {
   "cell_type": "markdown",
   "source": [
    "### The features used"
   ],
   "attachments": {},
   "metadata": {
    "datalore": {
     "node_id": "hfMb8f2fibL3nmQTQTAX8o",
     "type": "MD",
     "hide_input_from_viewers": false,
     "hide_output_from_viewers": false
    }
   }
  },
  {
   "cell_type": "code",
   "source": [
    "# regression_important_features = [4,1,0,13,16,39,36,15,32,2]\n",
    "# rand_forest_important_features = [2,4,13,3,33,51,34,27,5,11]\n",
    "\n",
    "# Using the most important features found by regression:\n",
    "important_features = [4,1,0,13,16,39,36,15,32,2]\n",
    "\n",
    "# Feature names:\n",
    "important_features_names = list(map(lambda x: feature_names[x], important_features))\n",
    "\n",
    "# Feature descriptions:\n",
    "descriptions = list(map(lambda x: data_dictionary[data_dictionary[\"name\"]==x].description.iloc[0], important_features_names))\n",
    "important_features_descriptions = pd.DataFrame({'name': important_features_names, 'description': descriptions})[['name', 'description']]\n",
    "\n",
    "# Selecting only the 10 most important features from the datasets:\n",
    "train_set_X_important_f = training_set_X[:, important_features]\n",
    "test_set_X_important_f = test_set_X[:, important_features]\n",
    "\n",
    "print(\"Datasets shape only considering the 10 most important features: \")\n",
    "print(\"Training set: \" + \" X: \" + str(train_set_X_important_f.shape) + \";  Y: \"+str(training_set_Y.shape))\n",
    "print(\"Test set: \" + \" X: \" + str(test_set_X_important_f.shape) + \";  Y: \"+str(test_set_Y.shape))\n",
    "\n",
    "print('\\nThe', len(important_features),'most important features chosen: ')\n",
    "important_features_descriptions"
   ],
   "execution_count": 4,
   "outputs": [
    {
     "name": "stdout",
     "text": [
      "Datasets shape only considering the 10 most important features: \n",
      "Training set:  X: (92722, 10);  Y: (92722,)\n",
      "Test set:  X: (39738, 10);  Y: (39738,)\n",
      "\n",
      "The 10 most important features chosen: \n"
     ],
     "output_type": "stream"
    },
    {
     "data": {
      "text/html": [
       "<div>\n",
       "<style scoped>\n",
       "    .dataframe tbody tr th:only-of-type {\n",
       "        vertical-align: middle;\n",
       "    }\n",
       "\n",
       "    .dataframe tbody tr th {\n",
       "        vertical-align: top;\n",
       "    }\n",
       "\n",
       "    .dataframe thead th {\n",
       "        text-align: right;\n",
       "    }\n",
       "</style>\n",
       "<table border=\"1\" class=\"dataframe\">\n",
       "  <thead>\n",
       "    <tr style=\"text-align: right;\">\n",
       "      <th></th>\n",
       "      <th>name</th>\n",
       "      <th>description</th>\n",
       "    </tr>\n",
       "  </thead>\n",
       "  <tbody>\n",
       "    <tr>\n",
       "      <th>0</th>\n",
       "      <td>sub_grade</td>\n",
       "      <td>LC assigned loan subgrade</td>\n",
       "    </tr>\n",
       "    <tr>\n",
       "      <th>1</th>\n",
       "      <td>term</td>\n",
       "      <td>The number of payments on the loan. Values are in months and can be either 36 or 60.</td>\n",
       "    </tr>\n",
       "    <tr>\n",
       "      <th>2</th>\n",
       "      <td>loan_amnt</td>\n",
       "      <td>The listed amount of the loan applied for by the borrower. If at some point in time, the credit department reduces the loan amount, then it will be reflected in this value.</td>\n",
       "    </tr>\n",
       "    <tr>\n",
       "      <th>3</th>\n",
       "      <td>dti</td>\n",
       "      <td>A ratio calculated using the borrower’s total monthly debt payments on the total debt obligations, excluding mortgage and the requested LC loan, divided by the borrower’s self-reported monthly income.</td>\n",
       "    </tr>\n",
       "    <tr>\n",
       "      <th>4</th>\n",
       "      <td>fico_range_low</td>\n",
       "      <td>The lower boundary range the borrower’s FICO at loan origination belongs to.</td>\n",
       "    </tr>\n",
       "    <tr>\n",
       "      <th>5</th>\n",
       "      <td>mort_acc</td>\n",
       "      <td>Number of mortgage accounts.</td>\n",
       "    </tr>\n",
       "    <tr>\n",
       "      <th>6</th>\n",
       "      <td>mo_sin_old_rev_tl_op</td>\n",
       "      <td>Months since oldest revolving account opened</td>\n",
       "    </tr>\n",
       "    <tr>\n",
       "      <th>7</th>\n",
       "      <td>earliest_cr_line</td>\n",
       "      <td>The month the borrower's earliest reported credit line was opened</td>\n",
       "    </tr>\n",
       "    <tr>\n",
       "      <th>8</th>\n",
       "      <td>acc_open_past_24mths</td>\n",
       "      <td>Number of trades opened in past 24 months.</td>\n",
       "    </tr>\n",
       "    <tr>\n",
       "      <th>9</th>\n",
       "      <td>int_rate</td>\n",
       "      <td>Interest Rate on the loan</td>\n",
       "    </tr>\n",
       "  </tbody>\n",
       "</table>\n",
       "</div>"
      ]
     },
     "metadata": {},
     "output_type": "display_data"
    }
   ],
   "metadata": {
    "datalore": {
     "node_id": "Zs5USWNlukTi0fP9ejHFma",
     "type": "CODE",
     "hide_input_from_viewers": false,
     "hide_output_from_viewers": false
    }
   }
  },
  {
   "cell_type": "markdown",
   "source": [
    "### Function used in the previous assignments that displays confidence matrix, roc curve and other metrics for different thresholds"
   ],
   "attachments": {},
   "metadata": {
    "datalore": {
     "node_id": "TUREjSyH4aypEVk30TpljA",
     "type": "MD",
     "hide_input_from_viewers": false,
     "hide_output_from_viewers": false
    }
   }
  },
  {
   "cell_type": "code",
   "source": [
    "pd.set_option('display.expand_frame_repr', False)  # printing dataframe width limit\n",
    "\n",
    "def model_performance(predict_prob, thresholds):\n",
    "    \"\"\"\n",
    "    Displays confidence matrix, roc curve and different metrics for a list of thresholds.\n",
    "    \"\"\"\n",
    "    # DF to store results:\n",
    "    results = pd.DataFrame(\n",
    "        columns=[\"THRESHOLD\", \"accuracy\", \"true pos rate\", \"precision\", \"AUC-score\"])\n",
    "    roc_points = np.zeros((len(thresholds), 2))\n",
    "\n",
    "    for idx, i in enumerate(thresholds):\n",
    "        # If prob for test set > threshold predict 1\n",
    "        preds = np.where(predict_prob > i, 1, 0)\n",
    "\n",
    "        # create confusion matrix [[TN, FP], [FN, TP]]\n",
    "        cm = (confusion_matrix(test_set_Y, preds, labels=[0, 1], sample_weight=None) / len(test_set_Y))\n",
    "\n",
    "        print('Confusion matrix for threshold =', i, '\\n', cm, '\\n')\n",
    "\n",
    "        TN, FP, FN, TP = cm.ravel()\n",
    "\n",
    "        # DF to store results:\n",
    "        fpr = FP / (FP + TN)\n",
    "        tpr = recall_score(test_set_Y, preds)\n",
    "        results['THRESHOLD'] = thresholds\n",
    "        results.iloc[idx, 1] = accuracy_score(test_set_Y, preds)\n",
    "        results.iloc[idx, 2] = tpr  # True positive rate\n",
    "        results.iloc[idx, 3] = precision_score(test_set_Y, preds)\n",
    "        results.iloc[idx, 4] = roc_auc_score(test_set_Y, preds)  # AUC score\n",
    "\n",
    "        # Markers on the roc plot\n",
    "        roc_points[idx, 0] = fpr\n",
    "        roc_points[idx, 1] = tpr\n",
    "\n",
    "    print('METRICS:')\n",
    "    print(results.T)\n",
    "\n",
    "    # Plot ROC and compute AUC: (part of code taken from the book)\n",
    "    ns_prob = [0 for _ in range(len(test_set_Y))]\n",
    "    ns_fpr, ns_tpr, _ = roc_curve(test_set_Y, ns_prob)\n",
    "    lr_fpr, lr_tpr, _ = roc_curve(test_set_Y, predict_prob)\n",
    "\n",
    "    plt.plot(ns_fpr, ns_tpr, linestyle='--', label='Random Prediction')\n",
    "    plt.plot(lr_fpr, lr_tpr, marker='.', label='Tree Model')\n",
    "\n",
    "    for idx, t in enumerate(thresholds):\n",
    "        if idx == 0:\n",
    "            plt.scatter(roc_points[idx, 0], roc_points[idx, 1], color='green', s=50, marker='x', zorder=2,\n",
    "                        label='Thresholds')\n",
    "        else:\n",
    "            plt.scatter(roc_points[idx, 0], roc_points[idx, 1], color='green', s=50, marker='x', zorder=2)\n",
    "        plt.text(roc_points[idx, 0] - 0.02, roc_points[idx, 1] + 0.02, str(thresholds[idx]))\n",
    "\n",
    "    plt.title('ROC curve')\n",
    "    plt.grid(False)\n",
    "    plt.xlabel('False Positive Rate')\n",
    "    plt.ylabel('True Positive Rate')\n",
    "    plt.legend()\n",
    "    plt.show()\n",
    "\n",
    "    return"
   ],
   "execution_count": 5,
   "outputs": [],
   "metadata": {
    "datalore": {
     "node_id": "VoIo62cJXuECERnYjVpTS4",
     "type": "CODE",
     "hide_input_from_viewers": false,
     "hide_output_from_viewers": false
    }
   }
  },
  {
   "cell_type": "markdown",
   "source": [
    "## Training a neural network with a single hidden layer"
   ],
   "attachments": {},
   "metadata": {
    "datalore": {
     "node_id": "dqoy5VcSrCOweCWx7lBIcf",
     "type": "MD",
     "hide_input_from_viewers": false,
     "hide_output_from_viewers": false
    }
   }
  },
  {
   "cell_type": "code",
   "source": [
    "ann_1_layer = MLPClassifier(solver='adam', hidden_layer_sizes=(10,), learning_rate_init= 0.001, max_iter=500, \n",
    "                            activation='logistic', alpha=0.01, random_state=1)  # alpha is the L2 regularization term\n",
    "ann_1_layer.fit(train_set_X_important_f, training_set_Y)"
   ],
   "execution_count": 6,
   "outputs": [
    {
     "data": {
      "text/html": [
       "<style>#sk-container-id-1 {color: black;background-color: white;}#sk-container-id-1 pre{padding: 0;}#sk-container-id-1 div.sk-toggleable {background-color: white;}#sk-container-id-1 label.sk-toggleable__label {cursor: pointer;display: block;width: 100%;margin-bottom: 0;padding: 0.3em;box-sizing: border-box;text-align: center;}#sk-container-id-1 label.sk-toggleable__label-arrow:before {content: \"▸\";float: left;margin-right: 0.25em;color: #696969;}#sk-container-id-1 label.sk-toggleable__label-arrow:hover:before {color: black;}#sk-container-id-1 div.sk-estimator:hover label.sk-toggleable__label-arrow:before {color: black;}#sk-container-id-1 div.sk-toggleable__content {max-height: 0;max-width: 0;overflow: hidden;text-align: left;background-color: #f0f8ff;}#sk-container-id-1 div.sk-toggleable__content pre {margin: 0.2em;color: black;border-radius: 0.25em;background-color: #f0f8ff;}#sk-container-id-1 input.sk-toggleable__control:checked~div.sk-toggleable__content {max-height: 200px;max-width: 100%;overflow: auto;}#sk-container-id-1 input.sk-toggleable__control:checked~label.sk-toggleable__label-arrow:before {content: \"▾\";}#sk-container-id-1 div.sk-estimator input.sk-toggleable__control:checked~label.sk-toggleable__label {background-color: #d4ebff;}#sk-container-id-1 div.sk-label input.sk-toggleable__control:checked~label.sk-toggleable__label {background-color: #d4ebff;}#sk-container-id-1 input.sk-hidden--visually {border: 0;clip: rect(1px 1px 1px 1px);clip: rect(1px, 1px, 1px, 1px);height: 1px;margin: -1px;overflow: hidden;padding: 0;position: absolute;width: 1px;}#sk-container-id-1 div.sk-estimator {font-family: monospace;background-color: #f0f8ff;border: 1px dotted black;border-radius: 0.25em;box-sizing: border-box;margin-bottom: 0.5em;}#sk-container-id-1 div.sk-estimator:hover {background-color: #d4ebff;}#sk-container-id-1 div.sk-parallel-item::after {content: \"\";width: 100%;border-bottom: 1px solid gray;flex-grow: 1;}#sk-container-id-1 div.sk-label:hover label.sk-toggleable__label {background-color: #d4ebff;}#sk-container-id-1 div.sk-serial::before {content: \"\";position: absolute;border-left: 1px solid gray;box-sizing: border-box;top: 0;bottom: 0;left: 50%;z-index: 0;}#sk-container-id-1 div.sk-serial {display: flex;flex-direction: column;align-items: center;background-color: white;padding-right: 0.2em;padding-left: 0.2em;position: relative;}#sk-container-id-1 div.sk-item {position: relative;z-index: 1;}#sk-container-id-1 div.sk-parallel {display: flex;align-items: stretch;justify-content: center;background-color: white;position: relative;}#sk-container-id-1 div.sk-item::before, #sk-container-id-1 div.sk-parallel-item::before {content: \"\";position: absolute;border-left: 1px solid gray;box-sizing: border-box;top: 0;bottom: 0;left: 50%;z-index: -1;}#sk-container-id-1 div.sk-parallel-item {display: flex;flex-direction: column;z-index: 1;position: relative;background-color: white;}#sk-container-id-1 div.sk-parallel-item:first-child::after {align-self: flex-end;width: 50%;}#sk-container-id-1 div.sk-parallel-item:last-child::after {align-self: flex-start;width: 50%;}#sk-container-id-1 div.sk-parallel-item:only-child::after {width: 0;}#sk-container-id-1 div.sk-dashed-wrapped {border: 1px dashed gray;margin: 0 0.4em 0.5em 0.4em;box-sizing: border-box;padding-bottom: 0.4em;background-color: white;}#sk-container-id-1 div.sk-label label {font-family: monospace;font-weight: bold;display: inline-block;line-height: 1.2em;}#sk-container-id-1 div.sk-label-container {text-align: center;}#sk-container-id-1 div.sk-container {/* jupyter's `normalize.less` sets `[hidden] { display: none; }` but bootstrap.min.css set `[hidden] { display: none !important; }` so we also need the `!important` here to be able to override the default hidden behavior on the sphinx rendered scikit-learn.org. See: https://github.com/scikit-learn/scikit-learn/issues/21755 */display: inline-block !important;position: relative;}#sk-container-id-1 div.sk-text-repr-fallback {display: none;}</style><div id=\"sk-container-id-1\" class=\"sk-top-container\"><div class=\"sk-text-repr-fallback\"><pre>MLPClassifier(activation=&#x27;logistic&#x27;, alpha=0.01, hidden_layer_sizes=(10,),\n",
       "              max_iter=500, random_state=1)</pre><b>In a Jupyter environment, please rerun this cell to show the HTML representation or trust the notebook. <br />On GitHub, the HTML representation is unable to render, please try loading this page with nbviewer.org.</b></div><div class=\"sk-container\" hidden><div class=\"sk-item\"><div class=\"sk-estimator sk-toggleable\"><input class=\"sk-toggleable__control sk-hidden--visually\" id=\"sk-estimator-id-1\" type=\"checkbox\" checked><label for=\"sk-estimator-id-1\" class=\"sk-toggleable__label sk-toggleable__label-arrow\">MLPClassifier</label><div class=\"sk-toggleable__content\"><pre>MLPClassifier(activation=&#x27;logistic&#x27;, alpha=0.01, hidden_layer_sizes=(10,),\n",
       "              max_iter=500, random_state=1)</pre></div></div></div></div></div>"
      ]
     },
     "metadata": {},
     "output_type": "display_data"
    }
   ],
   "metadata": {
    "datalore": {
     "node_id": "hE1U5JAjTQo4Ql1JnB3Xfb",
     "type": "CODE",
     "hide_input_from_viewers": false,
     "hide_output_from_viewers": false
    }
   }
  },
  {
   "cell_type": "code",
   "source": [
    "# Prediction probabilities on the test set:\n",
    "predictions_prob = ann_1_layer.predict_proba(test_set_X[:, important_features])[:,1]\n",
    "\n",
    "# Performance of the model:\n",
    "model_performance(predict_prob = predictions_prob, thresholds=[.5, .6, .7, .75, .80, .85])"
   ],
   "execution_count": 7,
   "outputs": [
    {
     "name": "stdout",
     "text": [
      "Confusion matrix for threshold = 0.5 \n",
      " [[0.02307615 0.20630127]\n",
      " [0.01640747 0.75421511]] \n",
      "\n",
      "Confusion matrix for threshold = 0.6 \n",
      " [[0.05868438 0.17069304]\n",
      " [0.05883537 0.71178721]] \n",
      "\n",
      "Confusion matrix for threshold = 0.7 \n",
      " [[0.10632141 0.12305602]\n",
      " [0.15176909 0.61885349]] \n",
      "\n",
      "Confusion matrix for threshold = 0.75 \n",
      " [[0.13820524 0.09117218]\n",
      " [0.22784237 0.54278021]] \n",
      "\n",
      "Confusion matrix for threshold = 0.8 \n",
      " [[0.16915798 0.06021944]\n",
      " [0.33308169 0.43754089]] \n",
      "\n",
      "Confusion matrix for threshold = 0.85 \n",
      " [[0.19782073 0.0315567 ]\n",
      " [0.46617847 0.30444411]] \n",
      "\n",
      "METRICS:\n",
      "                      0         1         2         3         4         5\n",
      "THRESHOLD           0.5       0.6       0.7      0.75       0.8      0.85\n",
      "accuracy       0.777291  0.770472  0.725175  0.680985  0.606699  0.502265\n",
      "true pos rate  0.978709  0.923652  0.803057   0.70434  0.567776  0.395063\n",
      "precision      0.785218  0.806576  0.834136  0.856185  0.879019  0.906081\n",
      "AUC-score      0.539656  0.589747  0.633289  0.653432  0.652621  0.628744\n"
     ],
     "output_type": "stream"
    },
    {
     "data": {
      "image/png": "[encoded data removed]"
     },
     "metadata": {
      "image/png": {}
     },
     "output_type": "display_data"
    }
   ],
   "metadata": {
    "datalore": {
     "node_id": "tUNkF7fBSH4FhawxJOJXM5",
     "type": "CODE",
     "hide_input_from_viewers": false,
     "hide_output_from_viewers": false
    }
   }
  },
  {
   "cell_type": "markdown",
   "source": [
    "# **Refining the model**"
   ],
   "attachments": {},
   "metadata": {
    "datalore": {
     "node_id": "Wl419GvIJa6ATf0Thq8NMy",
     "type": "MD",
     "hide_input_from_viewers": false,
     "hide_output_from_viewers": false
    }
   }
  },
  {
   "cell_type": "markdown",
   "source": [
    "### Testing with different architectures (different combinations of hidden layers and nodes)"
   ],
   "attachments": {},
   "metadata": {
    "datalore": {
     "node_id": "xxTA4QPB3VeYr1WnCRV8y3",
     "type": "MD",
     "hide_input_from_viewers": false,
     "hide_output_from_viewers": false
    }
   }
  },
  {
   "cell_type": "code",
   "source": [
    "ann_multi_layer = MLPClassifier(solver='adam', hidden_layer_sizes=(100,), learning_rate_init= 0.001, max_iter=500, \n",
    "                            activation='logistic', alpha=0.001, random_state=1)\n",
    "\n",
    "# hidden_layers = [(100,), (130,), (160,), (100, 100), (100, 130), (100, 160), (130, 130), (130, 160), (160, 160),\n",
    "#                  (100, 100, 100), (100, 100, 130), (100, 130, 130), (130, 130, 130), (130, 160, 160), (160, 160, 160)]\n",
    "\n",
    "hidden_layers = [(5,), (5,5), (5,5,5),(10,),(10,10),(10,10,10),(20,),(20,20),(20,20,20),(30,),(30,30),(30,30,30)]\n",
    "\n",
    "for layer in hidden_layers:\n",
    "    ann_multi_layer.set_params(hidden_layer_sizes=layer)\n",
    "\n",
    "    ann_multi_layer.fit(train_set_X_important_f, training_set_Y)\n",
    "\n",
    "    print(\"ANN with \",len(layer), \"layers, hidden neurons on each level = \",layer,\" and accuracy : \", ann_multi_layer.score(test_set_X_important_f, test_set_Y))"
   ],
   "execution_count": 8,
   "outputs": [
    {
     "name": "stdout",
     "text": [
      "ANN with  1 layers, hidden neurons on each level =  (5,)  and accuracy :  0.7775680708641602\n",
      "ANN with  2 layers, hidden neurons on each level =  (5, 5)  and accuracy :  0.7765614776787961\n",
      "ANN with  3 layers, hidden neurons on each level =  (5, 5, 5)  and accuracy :  0.7773667522270874\n",
      "ANN with  1 layers, hidden neurons on each level =  (10,)  and accuracy :  0.7780965322864765\n",
      "ANN with  2 layers, hidden neurons on each level =  (10, 10)  and accuracy :  0.777517741204892\n",
      "ANN with  3 layers, hidden neurons on each level =  (10, 10, 10)  and accuracy :  0.7776938950123308\n",
      "ANN with  1 layers, hidden neurons on each level =  (20,)  and accuracy :  0.7782475212642811\n",
      "ANN with  2 layers, hidden neurons on each level =  (20, 20)  and accuracy :  0.7777945543308672\n",
      "ANN with  3 layers, hidden neurons on each level =  (20, 20, 20)  and accuracy :  0.7782475212642811\n",
      "ANN with  1 layers, hidden neurons on each level =  (30,)  and accuracy :  0.7776184005234285\n",
      "ANN with  2 layers, hidden neurons on each level =  (30, 30)  and accuracy :  0.7782978509235492\n",
      "ANN with  3 layers, hidden neurons on each level =  (30, 30, 30)  and accuracy :  0.7780210377975741\n"
     ],
     "output_type": "stream"
    }
   ],
   "metadata": {
    "datalore": {
     "node_id": "sJdRnCgdeCoV9tKeeWJN9C",
     "type": "CODE",
     "hide_input_from_viewers": false,
     "hide_output_from_viewers": false
    }
   }
  },
  {
   "cell_type": "markdown",
   "source": [
    "### The best model by accuracy"
   ],
   "attachments": {},
   "metadata": {
    "datalore": {
     "node_id": "0rUooGX8NCOHaTj1JUmPLI",
     "type": "MD",
     "hide_input_from_viewers": false,
     "hide_output_from_viewers": false
    }
   }
  },
  {
   "cell_type": "code",
   "source": [
    "# Best model has one hidden layer with 20 nodes\n",
    "ann_best = MLPClassifier(solver='adam', hidden_layer_sizes=(20,), learning_rate_init= 0.001, max_iter=500, \n",
    "                            activation='logistic', alpha=0.001, random_state=1)\n",
    "ann_best.fit(train_set_X_important_f, training_set_Y)\n",
    "\n",
    "# Prediction probabilities on the test set:\n",
    "ann_best_predictions_prob = ann_best.predict_proba(test_set_X[:, important_features])[:,1]\n",
    "\n",
    "# performance (roc, auc, conf. matrix, etc.)\n",
    "model_performance(predict_prob = ann_best_predictions_prob, thresholds=[.5, .6, .7, .75, .80, .85])"
   ],
   "execution_count": 9,
   "outputs": [
    {
     "name": "stdout",
     "text": [
      "Confusion matrix for threshold = 0.5 \n",
      " [[0.02901505 0.20036237]\n",
      " [0.02139011 0.74923247]] \n",
      "\n",
      "Confusion matrix for threshold = 0.6 \n",
      " [[0.06708944 0.16228799]\n",
      " [0.07051185 0.70011073]] \n",
      "\n",
      "Confusion matrix for threshold = 0.7 \n",
      " [[0.11651316 0.11286426]\n",
      " [0.17237908 0.59824349]] \n",
      "\n",
      "Confusion matrix for threshold = 0.75 \n",
      " [[0.14562887 0.08374855]\n",
      " [0.24991192 0.52071065]] \n",
      "\n",
      "Confusion matrix for threshold = 0.8 \n",
      " [[0.17429161 0.05508581]\n",
      " [0.35218179 0.41844079]] \n",
      "\n",
      "Confusion matrix for threshold = 0.85 \n",
      " [[0.19993457 0.02944285]\n",
      " [0.47833308 0.2922895 ]] \n",
      "\n",
      "METRICS:\n",
      "                      0         1         2         3         4         5\n",
      "THRESHOLD           0.5       0.6       0.7      0.75       0.8      0.85\n",
      "accuracy       0.778248    0.7672  0.714757   0.66634  0.592732  0.492224\n",
      "true pos rate  0.972243    0.9085  0.776312  0.675701  0.542991   0.37929\n",
      "precision      0.789002  0.811818  0.841284  0.861449  0.883669  0.908487\n",
      "AUC-score      0.549369  0.600493  0.642133  0.655294  0.651418  0.625465\n"
     ],
     "output_type": "stream"
    },
    {
     "data": {
      "image/png": "[encoded data removed]"
     },
     "metadata": {
      "image/png": {}
     },
     "output_type": "display_data"
    }
   ],
   "metadata": {
    "datalore": {
     "node_id": "mvHIojSQDNBUMdWZQRDkPE",
     "type": "CODE",
     "hide_input_from_viewers": false,
     "hide_output_from_viewers": false
    }
   }
  }
 ],
 "metadata": {
  "kernelspec": {
   "display_name": "Python",
   "language": "python",
   "name": "python"
  },
  "datalore": {
   "version": 1,
   "computation_mode": "JUPYTER",
   "package_manager": "pip",
   "base_environment": "default",
   "packages": [
    {
     "name": "imbalanced-learn",
     "version": "0.10.1",
     "source": "PIP"
    }
   ]
  }
 },
 "nbformat": 4,
 "nbformat_minor": 4
}
